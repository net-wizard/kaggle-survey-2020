{
 "cells": [
  {
   "cell_type": "code",
   "execution_count": 1,
   "id": "4dcda8dd-05ac-4ee8-b533-470bed4ba347",
   "metadata": {},
   "outputs": [],
   "source": [
    "import pandas as pd\n",
    "import plotly.express as px\n",
    "import matplotlib.pyplot as plt \n",
    "import seaborn as sns\n",
    "\n",
    "import warnings\n",
    "warnings.filterwarnings('ignore')"
   ]
  },
  {
   "cell_type": "code",
   "execution_count": 2,
   "id": "8d603fe6-3209-4476-b24e-070ec36a515e",
   "metadata": {},
   "outputs": [],
   "source": [
    "df = pd.read_csv(\"kaggle_survey_2020_responses.csv\",skiprows = 1)"
   ]
  },
  {
   "cell_type": "code",
   "execution_count": 3,
   "id": "c79f2851-d49f-4d10-b9dc-1f04257a3463",
   "metadata": {},
   "outputs": [
    {
     "data": {
      "text/html": [
       "<div>\n",
       "<style scoped>\n",
       "    .dataframe tbody tr th:only-of-type {\n",
       "        vertical-align: middle;\n",
       "    }\n",
       "\n",
       "    .dataframe tbody tr th {\n",
       "        vertical-align: top;\n",
       "    }\n",
       "\n",
       "    .dataframe thead th {\n",
       "        text-align: right;\n",
       "    }\n",
       "</style>\n",
       "<table border=\"1\" class=\"dataframe\">\n",
       "  <thead>\n",
       "    <tr style=\"text-align: right;\">\n",
       "      <th></th>\n",
       "      <th>Duration (in seconds)</th>\n",
       "      <th>What is your age (# years)?</th>\n",
       "      <th>What is your gender? - Selected Choice</th>\n",
       "      <th>In which country do you currently reside?</th>\n",
       "      <th>What is the highest level of formal education that you have attained or plan to attain within the next 2 years?</th>\n",
       "      <th>Select the title most similar to your current role (or most recent title if retired): - Selected Choice</th>\n",
       "      <th>For how many years have you been writing code and/or programming?</th>\n",
       "      <th>What programming languages do you use on a regular basis? (Select all that apply) - Selected Choice - Python</th>\n",
       "      <th>What programming languages do you use on a regular basis? (Select all that apply) - Selected Choice - R</th>\n",
       "      <th>What programming languages do you use on a regular basis? (Select all that apply) - Selected Choice - SQL</th>\n",
       "      <th>...</th>\n",
       "      <th>In the next 2 years, do you hope to become more familiar with any of these tools for managing ML experiments? (Select all that apply) - Selected Choice -  Weights &amp; Biases</th>\n",
       "      <th>In the next 2 years, do you hope to become more familiar with any of these tools for managing ML experiments? (Select all that apply) - Selected Choice -  Comet.ml</th>\n",
       "      <th>In the next 2 years, do you hope to become more familiar with any of these tools for managing ML experiments? (Select all that apply) - Selected Choice -  Sacred + Omniboard</th>\n",
       "      <th>In the next 2 years, do you hope to become more familiar with any of these tools for managing ML experiments? (Select all that apply) - Selected Choice -  TensorBoard</th>\n",
       "      <th>In the next 2 years, do you hope to become more familiar with any of these tools for managing ML experiments? (Select all that apply) - Selected Choice -  Guild.ai</th>\n",
       "      <th>In the next 2 years, do you hope to become more familiar with any of these tools for managing ML experiments? (Select all that apply) - Selected Choice -  Polyaxon</th>\n",
       "      <th>In the next 2 years, do you hope to become more familiar with any of these tools for managing ML experiments? (Select all that apply) - Selected Choice -  Trains</th>\n",
       "      <th>In the next 2 years, do you hope to become more familiar with any of these tools for managing ML experiments? (Select all that apply) - Selected Choice -  Domino Model Monitor</th>\n",
       "      <th>In the next 2 years, do you hope to become more familiar with any of these tools for managing ML experiments? (Select all that apply) - Selected Choice - None</th>\n",
       "      <th>In the next 2 years, do you hope to become more familiar with any of these tools for managing ML experiments? (Select all that apply) - Selected Choice - Other</th>\n",
       "    </tr>\n",
       "  </thead>\n",
       "  <tbody>\n",
       "    <tr>\n",
       "      <th>0</th>\n",
       "      <td>1838</td>\n",
       "      <td>35-39</td>\n",
       "      <td>Man</td>\n",
       "      <td>Colombia</td>\n",
       "      <td>Doctoral degree</td>\n",
       "      <td>Student</td>\n",
       "      <td>5-10 years</td>\n",
       "      <td>Python</td>\n",
       "      <td>R</td>\n",
       "      <td>SQL</td>\n",
       "      <td>...</td>\n",
       "      <td>NaN</td>\n",
       "      <td>NaN</td>\n",
       "      <td>NaN</td>\n",
       "      <td>TensorBoard</td>\n",
       "      <td>NaN</td>\n",
       "      <td>NaN</td>\n",
       "      <td>NaN</td>\n",
       "      <td>NaN</td>\n",
       "      <td>NaN</td>\n",
       "      <td>NaN</td>\n",
       "    </tr>\n",
       "    <tr>\n",
       "      <th>1</th>\n",
       "      <td>289287</td>\n",
       "      <td>30-34</td>\n",
       "      <td>Man</td>\n",
       "      <td>United States of America</td>\n",
       "      <td>Master’s degree</td>\n",
       "      <td>Data Engineer</td>\n",
       "      <td>5-10 years</td>\n",
       "      <td>Python</td>\n",
       "      <td>R</td>\n",
       "      <td>SQL</td>\n",
       "      <td>...</td>\n",
       "      <td>NaN</td>\n",
       "      <td>NaN</td>\n",
       "      <td>NaN</td>\n",
       "      <td>NaN</td>\n",
       "      <td>NaN</td>\n",
       "      <td>NaN</td>\n",
       "      <td>NaN</td>\n",
       "      <td>NaN</td>\n",
       "      <td>NaN</td>\n",
       "      <td>NaN</td>\n",
       "    </tr>\n",
       "    <tr>\n",
       "      <th>2</th>\n",
       "      <td>860</td>\n",
       "      <td>35-39</td>\n",
       "      <td>Man</td>\n",
       "      <td>Argentina</td>\n",
       "      <td>Bachelor’s degree</td>\n",
       "      <td>Software Engineer</td>\n",
       "      <td>10-20 years</td>\n",
       "      <td>NaN</td>\n",
       "      <td>NaN</td>\n",
       "      <td>NaN</td>\n",
       "      <td>...</td>\n",
       "      <td>NaN</td>\n",
       "      <td>NaN</td>\n",
       "      <td>NaN</td>\n",
       "      <td>NaN</td>\n",
       "      <td>NaN</td>\n",
       "      <td>NaN</td>\n",
       "      <td>NaN</td>\n",
       "      <td>NaN</td>\n",
       "      <td>None</td>\n",
       "      <td>NaN</td>\n",
       "    </tr>\n",
       "    <tr>\n",
       "      <th>3</th>\n",
       "      <td>507</td>\n",
       "      <td>30-34</td>\n",
       "      <td>Man</td>\n",
       "      <td>United States of America</td>\n",
       "      <td>Master’s degree</td>\n",
       "      <td>Data Scientist</td>\n",
       "      <td>5-10 years</td>\n",
       "      <td>Python</td>\n",
       "      <td>NaN</td>\n",
       "      <td>SQL</td>\n",
       "      <td>...</td>\n",
       "      <td>NaN</td>\n",
       "      <td>NaN</td>\n",
       "      <td>NaN</td>\n",
       "      <td>NaN</td>\n",
       "      <td>NaN</td>\n",
       "      <td>NaN</td>\n",
       "      <td>NaN</td>\n",
       "      <td>NaN</td>\n",
       "      <td>NaN</td>\n",
       "      <td>NaN</td>\n",
       "    </tr>\n",
       "    <tr>\n",
       "      <th>4</th>\n",
       "      <td>78</td>\n",
       "      <td>30-34</td>\n",
       "      <td>Man</td>\n",
       "      <td>Japan</td>\n",
       "      <td>Master’s degree</td>\n",
       "      <td>Software Engineer</td>\n",
       "      <td>3-5 years</td>\n",
       "      <td>Python</td>\n",
       "      <td>NaN</td>\n",
       "      <td>NaN</td>\n",
       "      <td>...</td>\n",
       "      <td>NaN</td>\n",
       "      <td>NaN</td>\n",
       "      <td>NaN</td>\n",
       "      <td>NaN</td>\n",
       "      <td>NaN</td>\n",
       "      <td>NaN</td>\n",
       "      <td>NaN</td>\n",
       "      <td>NaN</td>\n",
       "      <td>NaN</td>\n",
       "      <td>NaN</td>\n",
       "    </tr>\n",
       "  </tbody>\n",
       "</table>\n",
       "<p>5 rows × 355 columns</p>\n",
       "</div>"
      ],
      "text/plain": [
       "   Duration (in seconds) What is your age (# years)?  \\\n",
       "0                   1838                       35-39   \n",
       "1                 289287                       30-34   \n",
       "2                    860                       35-39   \n",
       "3                    507                       30-34   \n",
       "4                     78                       30-34   \n",
       "\n",
       "  What is your gender? - Selected Choice  \\\n",
       "0                                    Man   \n",
       "1                                    Man   \n",
       "2                                    Man   \n",
       "3                                    Man   \n",
       "4                                    Man   \n",
       "\n",
       "  In which country do you currently reside?  \\\n",
       "0                                  Colombia   \n",
       "1                  United States of America   \n",
       "2                                 Argentina   \n",
       "3                  United States of America   \n",
       "4                                     Japan   \n",
       "\n",
       "  What is the highest level of formal education that you have attained or plan to attain within the next 2 years?  \\\n",
       "0                                    Doctoral degree                                                                \n",
       "1                                    Master’s degree                                                                \n",
       "2                                  Bachelor’s degree                                                                \n",
       "3                                    Master’s degree                                                                \n",
       "4                                    Master’s degree                                                                \n",
       "\n",
       "  Select the title most similar to your current role (or most recent title if retired): - Selected Choice  \\\n",
       "0                                            Student                                                        \n",
       "1                                      Data Engineer                                                        \n",
       "2                                  Software Engineer                                                        \n",
       "3                                     Data Scientist                                                        \n",
       "4                                  Software Engineer                                                        \n",
       "\n",
       "  For how many years have you been writing code and/or programming?  \\\n",
       "0                                         5-10 years                  \n",
       "1                                         5-10 years                  \n",
       "2                                        10-20 years                  \n",
       "3                                         5-10 years                  \n",
       "4                                          3-5 years                  \n",
       "\n",
       "  What programming languages do you use on a regular basis? (Select all that apply) - Selected Choice - Python  \\\n",
       "0                                             Python                                                             \n",
       "1                                             Python                                                             \n",
       "2                                                NaN                                                             \n",
       "3                                             Python                                                             \n",
       "4                                             Python                                                             \n",
       "\n",
       "  What programming languages do you use on a regular basis? (Select all that apply) - Selected Choice - R  \\\n",
       "0                                                  R                                                        \n",
       "1                                                  R                                                        \n",
       "2                                                NaN                                                        \n",
       "3                                                NaN                                                        \n",
       "4                                                NaN                                                        \n",
       "\n",
       "  What programming languages do you use on a regular basis? (Select all that apply) - Selected Choice - SQL  \\\n",
       "0                                                SQL                                                          \n",
       "1                                                SQL                                                          \n",
       "2                                                NaN                                                          \n",
       "3                                                SQL                                                          \n",
       "4                                                NaN                                                          \n",
       "\n",
       "   ...  \\\n",
       "0  ...   \n",
       "1  ...   \n",
       "2  ...   \n",
       "3  ...   \n",
       "4  ...   \n",
       "\n",
       "  In the next 2 years, do you hope to become more familiar with any of these tools for managing ML experiments? (Select all that apply) - Selected Choice -  Weights & Biases   \\\n",
       "0                                                NaN                                                                                                                             \n",
       "1                                                NaN                                                                                                                             \n",
       "2                                                NaN                                                                                                                             \n",
       "3                                                NaN                                                                                                                             \n",
       "4                                                NaN                                                                                                                             \n",
       "\n",
       "  In the next 2 years, do you hope to become more familiar with any of these tools for managing ML experiments? (Select all that apply) - Selected Choice -  Comet.ml   \\\n",
       "0                                                NaN                                                                                                                     \n",
       "1                                                NaN                                                                                                                     \n",
       "2                                                NaN                                                                                                                     \n",
       "3                                                NaN                                                                                                                     \n",
       "4                                                NaN                                                                                                                     \n",
       "\n",
       "  In the next 2 years, do you hope to become more familiar with any of these tools for managing ML experiments? (Select all that apply) - Selected Choice -  Sacred + Omniboard   \\\n",
       "0                                                NaN                                                                                                                               \n",
       "1                                                NaN                                                                                                                               \n",
       "2                                                NaN                                                                                                                               \n",
       "3                                                NaN                                                                                                                               \n",
       "4                                                NaN                                                                                                                               \n",
       "\n",
       "  In the next 2 years, do you hope to become more familiar with any of these tools for managing ML experiments? (Select all that apply) - Selected Choice -  TensorBoard   \\\n",
       "0                                       TensorBoard                                                                                                                         \n",
       "1                                                NaN                                                                                                                        \n",
       "2                                                NaN                                                                                                                        \n",
       "3                                                NaN                                                                                                                        \n",
       "4                                                NaN                                                                                                                        \n",
       "\n",
       "  In the next 2 years, do you hope to become more familiar with any of these tools for managing ML experiments? (Select all that apply) - Selected Choice -  Guild.ai   \\\n",
       "0                                                NaN                                                                                                                     \n",
       "1                                                NaN                                                                                                                     \n",
       "2                                                NaN                                                                                                                     \n",
       "3                                                NaN                                                                                                                     \n",
       "4                                                NaN                                                                                                                     \n",
       "\n",
       "  In the next 2 years, do you hope to become more familiar with any of these tools for managing ML experiments? (Select all that apply) - Selected Choice -  Polyaxon   \\\n",
       "0                                                NaN                                                                                                                     \n",
       "1                                                NaN                                                                                                                     \n",
       "2                                                NaN                                                                                                                     \n",
       "3                                                NaN                                                                                                                     \n",
       "4                                                NaN                                                                                                                     \n",
       "\n",
       "  In the next 2 years, do you hope to become more familiar with any of these tools for managing ML experiments? (Select all that apply) - Selected Choice -  Trains   \\\n",
       "0                                                NaN                                                                                                                   \n",
       "1                                                NaN                                                                                                                   \n",
       "2                                                NaN                                                                                                                   \n",
       "3                                                NaN                                                                                                                   \n",
       "4                                                NaN                                                                                                                   \n",
       "\n",
       "  In the next 2 years, do you hope to become more familiar with any of these tools for managing ML experiments? (Select all that apply) - Selected Choice -  Domino Model Monitor   \\\n",
       "0                                                NaN                                                                                                                                 \n",
       "1                                                NaN                                                                                                                                 \n",
       "2                                                NaN                                                                                                                                 \n",
       "3                                                NaN                                                                                                                                 \n",
       "4                                                NaN                                                                                                                                 \n",
       "\n",
       "  In the next 2 years, do you hope to become more familiar with any of these tools for managing ML experiments? (Select all that apply) - Selected Choice - None  \\\n",
       "0                                                NaN                                                                                                               \n",
       "1                                                NaN                                                                                                               \n",
       "2                                               None                                                                                                               \n",
       "3                                                NaN                                                                                                               \n",
       "4                                                NaN                                                                                                               \n",
       "\n",
       "  In the next 2 years, do you hope to become more familiar with any of these tools for managing ML experiments? (Select all that apply) - Selected Choice - Other  \n",
       "0                                                NaN                                                                                                               \n",
       "1                                                NaN                                                                                                               \n",
       "2                                                NaN                                                                                                               \n",
       "3                                                NaN                                                                                                               \n",
       "4                                                NaN                                                                                                               \n",
       "\n",
       "[5 rows x 355 columns]"
      ]
     },
     "execution_count": 3,
     "metadata": {},
     "output_type": "execute_result"
    }
   ],
   "source": [
    "df.head()"
   ]
  },
  {
   "cell_type": "markdown",
   "id": "94e60950-bf03-407d-aaba-647d47315983",
   "metadata": {},
   "source": [
    "### 1) How many years of experience most people have ?"
   ]
  },
  {
   "cell_type": "code",
   "execution_count": 4,
   "id": "2cbda100-8294-4a6b-b8bd-5a4ee52e1fc8",
   "metadata": {},
   "outputs": [
    {
     "data": {
      "image/png": "[encoded data removed]",
      "text/plain": [
       "<Figure size 720x432 with 1 Axes>"
      ]
     },
     "metadata": {
      "needs_background": "light"
     },
     "output_type": "display_data"
    }
   ],
   "source": [
    "ax=df[\"For how many years have you used machine learning methods?\"].value_counts().plot(kind='bar',figsize=(10,6))\n",
    "plt.ylabel('Count')\n",
    "ax.set_xlabel('how many years people used machine learning methods')\n",
    "for i in ax.patches:\n",
    "    ax.annotate(i.get_height(),(i.get_x()+i.get_width()/2,i.get_height()+300), ha='center', va='center')"
   ]
  },
  {
   "cell_type": "markdown",
   "id": "b185f49d-fd2c-4db3-92b3-474602873814",
   "metadata": {},
   "source": [
    "### 2) Which gender dominates data science industry ?"
   ]
  },
  {
   "cell_type": "code",
   "execution_count": 6,
   "id": "c21adeb4-1be9-42dd-b157-c665917db0e2",
   "metadata": {},
   "outputs": [
    {
     "ename": "AttributeError",
     "evalue": "module 'plotly.express' has no attribute 'Figure'",
     "output_type": "error",
     "traceback": [
      "\u001b[0;31m---------------------------------------------------------------------------\u001b[0m",
      "\u001b[0;31mAttributeError\u001b[0m                            Traceback (most recent call last)",
      "\u001b[0;32m/tmp/ipykernel_9384/8581070.py\u001b[0m in \u001b[0;36m<module>\u001b[0;34m\u001b[0m\n\u001b[1;32m      7\u001b[0m     \u001b[0my_gender\u001b[0m\u001b[0;34m.\u001b[0m\u001b[0mappend\u001b[0m\u001b[0;34m(\u001b[0m\u001b[0my\u001b[0m\u001b[0;34m[\u001b[0m\u001b[0my\u001b[0m\u001b[0;34m==\u001b[0m\u001b[0mn\u001b[0m\u001b[0;34m]\u001b[0m\u001b[0;34m.\u001b[0m\u001b[0mindex\u001b[0m\u001b[0;34m[\u001b[0m\u001b[0;36m0\u001b[0m\u001b[0;34m]\u001b[0m\u001b[0;34m)\u001b[0m\u001b[0;34m\u001b[0m\u001b[0;34m\u001b[0m\u001b[0m\n\u001b[1;32m      8\u001b[0m \u001b[0;34m\u001b[0m\u001b[0m\n\u001b[0;32m----> 9\u001b[0;31m fig = px.Figure(\n\u001b[0m\u001b[1;32m     10\u001b[0m     \u001b[0mdata\u001b[0m\u001b[0;34m=\u001b[0m\u001b[0;34m[\u001b[0m\u001b[0mpx\u001b[0m\u001b[0;34m.\u001b[0m\u001b[0mpie\u001b[0m\u001b[0;34m(\u001b[0m \u001b[0mvalues\u001b[0m \u001b[0;34m=\u001b[0m \u001b[0my_values\u001b[0m\u001b[0;34m,\u001b[0m \u001b[0mnames\u001b[0m \u001b[0;34m=\u001b[0m \u001b[0my_gender\u001b[0m\u001b[0;34m,\u001b[0m \u001b[0mcolor_discrete_sequence\u001b[0m\u001b[0;34m=\u001b[0m\u001b[0mpx\u001b[0m\u001b[0;34m.\u001b[0m\u001b[0mcolors\u001b[0m\u001b[0;34m.\u001b[0m\u001b[0msequential\u001b[0m\u001b[0;34m.\u001b[0m\u001b[0mRdBu\u001b[0m\u001b[0;34m,\u001b[0m \u001b[0mhole\u001b[0m\u001b[0;34m=\u001b[0m\u001b[0;36m0.4\u001b[0m\u001b[0;34m)\u001b[0m\u001b[0;34m]\u001b[0m\u001b[0;34m,\u001b[0m\u001b[0;34m\u001b[0m\u001b[0;34m\u001b[0m\u001b[0m\n\u001b[1;32m     11\u001b[0m     \u001b[0mlayout_title_text\u001b[0m\u001b[0;34m=\u001b[0m\u001b[0;34m\"A Figure Displayed with fig.show()\"\u001b[0m\u001b[0;34m\u001b[0m\u001b[0;34m\u001b[0m\u001b[0m\n",
      "\u001b[0;31mAttributeError\u001b[0m: module 'plotly.express' has no attribute 'Figure'"
     ]
    }
   ],
   "source": [
    "y = df[\"What is your gender? - Selected Choice\"].value_counts()\n",
    "y_values = []\n",
    "y_gender = []\n",
    "for i in range(len(y)):\n",
    "    n = y[i]\n",
    "    y_values.append(n)\n",
    "    y_gender.append(y[y==n].index[0])\n",
    "\n",
    "fig = px.Figure(\n",
    "    data=[px.pie( values = y_values, names = y_gender, color_discrete_sequence=px.colors.sequential.RdBu, hole=0.4)],\n",
    "    layout_title_text=\"A Figure Displayed with fig.show()\"\n",
    ")\n",
    "fig.show()"
   ]
  },
  {
   "cell_type": "code",
   "execution_count": null,
   "id": "41fb6a5b-e76b-440c-b887-14373bdbb4e4",
   "metadata": {},
   "outputs": [],
   "source": [
    "df.head()"
   ]
  },
  {
   "cell_type": "markdown",
   "id": "3b62167b-64af-4071-863c-64a427008746",
   "metadata": {},
   "source": [
    "### 3)Which language is Popular among Data scientists ?"
   ]
  },
  {
   "cell_type": "code",
   "execution_count": null,
   "id": "581488bc-d60d-4e14-986c-2a28ee0f1300",
   "metadata": {},
   "outputs": [],
   "source": [
    "m=df.groupby(\"What programming languages do you use on a regular basis? (Select all that apply) - Selected Choice - Python\")[\"What programming languages do you use on a regular basis? (Select all that apply) - Selected Choice - Python\"].count()\n",
    "\n",
    "for i in range(8,20):\n",
    "    name=df.columns[i]\n",
    "    m=m.append(df.groupby(name)[name].count())"
   ]
  },
  {
   "cell_type": "code",
   "execution_count": null,
   "id": "2efec154-2a80-450f-9991-f759c9ea5e34",
   "metadata": {},
   "outputs": [],
   "source": [
    "name=\"What programming language would you recommend an aspiring data scientist to learn first? - Selected Choice\"\n",
    "n=df.groupby(name)[name].count()"
   ]
  },
  {
   "cell_type": "code",
   "execution_count": null,
   "id": "9c310c28-e51f-4652-a901-5769d47c0572",
   "metadata": {},
   "outputs": [],
   "source": [
    "new=pd.concat([m, n], axis=1)\n",
    "new=new.rename_axis(\"lang\")"
   ]
  },
  {
   "cell_type": "code",
   "execution_count": null,
   "id": "a11c3087-ed35-464b-b725-8f0bcf5703c7",
   "metadata": {},
   "outputs": [],
   "source": [
    "new=new.rename(columns={\"What programming language would you recommend an aspiring data scientist to learn first? - Selected Choice\": \"recomended\"})"
   ]
  },
  {
   "cell_type": "code",
   "execution_count": null,
   "id": "88ba5ee9-40a5-4dbd-90e3-b36a6b0d5b0a",
   "metadata": {},
   "outputs": [],
   "source": [
    "yesSeries =new[0]\n",
    "nodSeries = new['recomended']\n",
    "\n",
    "newdf = pd.DataFrame({\"Used\":yesSeries,\"recomended\":nodSeries})\n",
    "ax = newdf.plot.bar(color=[\"SkyBlue\",\"IndianRed\"], rot=0, title=\"Labguages used vs recomended\",figsize=(10,6))\n",
    "ax.set_xlabel(\"languages\")\n",
    "ax.set_ylabel(\"counts\")\n",
    "plt.xticks(\n",
    "    rotation=45, \n",
    "    horizontalalignment='right',\n",
    "    fontweight='light',\n",
    "    fontsize='x-large'  \n",
    ")\n",
    "plt.show()\n",
    "\n"
   ]
  },
  {
   "cell_type": "code",
   "execution_count": null,
   "id": "898c4d70-2072-4a0e-b91f-67c2e3cb92f8",
   "metadata": {},
   "outputs": [],
   "source": [
    "m"
   ]
  },
  {
   "cell_type": "markdown",
   "id": "f04b0106-f02b-4065-958b-61c7eebd9384",
   "metadata": {},
   "source": [
    "### 4) What are the Buzzwords in Data Science ?"
   ]
  },
  {
   "cell_type": "code",
   "execution_count": null,
   "id": "bd89a3e7-6aa9-467e-953e-cdedaa846922",
   "metadata": {},
   "outputs": [],
   "source": [
    "dwc=m\n",
    "dwc=dwc.drop(dwc.index[-2:])\n",
    "for i in [*range(21,31), *range(33,45), *range(53,63),*range(66,80),*range(82,92)]:\n",
    "    name=df.columns[i]\n",
    "    dwc=dwc.append(df.groupby(name)[name].count())\n",
    "dwc"
   ]
  },
  {
   "cell_type": "code",
   "execution_count": null,
   "id": "81516c30-c88e-4626-91ee-8e9567bf3217",
   "metadata": {},
   "outputs": [],
   "source": [
    "data=dwc.to_dict()"
   ]
  },
  {
   "cell_type": "code",
   "execution_count": null,
   "id": "a6fe6e5a-37a7-453b-abbe-38560fc21d68",
   "metadata": {},
   "outputs": [],
   "source": [
    "from wordcloud import WordCloud\n",
    "\n",
    "wc = WordCloud(width=800, height=400, max_words=200).generate_from_frequencies(data)"
   ]
  },
  {
   "cell_type": "code",
   "execution_count": null,
   "id": "8d3f7336-e5ea-44d1-8f91-6d585ac60caf",
   "metadata": {},
   "outputs": [],
   "source": [
    "import matplotlib.pyplot as plt\n",
    "\n",
    "plt.figure(figsize=(20, 20))\n",
    "plt.imshow(wc, interpolation='bilinear')\n",
    "plt.axis('off')\n",
    "plt.show()"
   ]
  },
  {
   "cell_type": "markdown",
   "id": "4b71bb7e-834a-438e-8f97-7f3b923b68cf",
   "metadata": {},
   "source": [
    "### 5) Where do most of the people deploy their data analysis or machine learning applications?"
   ]
  },
  {
   "cell_type": "code",
   "execution_count": null,
   "id": "1039d43a-304c-4365-b021-1aac048e9dcd",
   "metadata": {},
   "outputs": [],
   "source": [
    "z=df.columns[100]\n",
    "z"
   ]
  },
  {
   "cell_type": "code",
   "execution_count": null,
   "id": "5d85e95e-45e6-419e-9dbf-3f2494e316b8",
   "metadata": {},
   "outputs": [],
   "source": [
    "df[df.columns[93]]"
   ]
  },
  {
   "cell_type": "markdown",
   "id": "7f8a7184-b50f-4abb-9038-4568978d8b30",
   "metadata": {},
   "source": [
    "### 4) Most paid programming languages"
   ]
  },
  {
   "cell_type": "code",
   "execution_count": null,
   "id": "1b632d5b-78d7-44fc-8e55-18f63035b2d3",
   "metadata": {},
   "outputs": [],
   "source": [
    "name=\"What programming languages do you use on a regular basis? (Select all that apply) - Selected Choice - Python\"\n",
    "wc=df.groupby(name)[name].count()\n",
    "#wc=wc.rename_axis(\"salary\")\n",
    "wc=wc.to_frame()\n",
    "wc=wc.rename(columns={name:\"python\"})\n",
    "wc\n",
    "\n",
    "v=m.index.values.tolist()\n",
    "v.pop(0)\n",
    "for i,j in zip(range(8,20),v):\n",
    "    name2=df.columns[i]\n",
    "    wc[j]=df.groupby(name)[name2].count()\n",
    "\n",
    "wc"
   ]
  },
  {
   "cell_type": "code",
   "execution_count": null,
   "id": "38927a4f-526b-4b1b-b668-f696c5e9eff4",
   "metadata": {},
   "outputs": [],
   "source": [
    "fig = px.bar(pays, title=\"Long-Form Input\", width=1000,height=600)\n",
    "fig.show()"
   ]
  }
 ],
 "metadata": {
  "kernelspec": {
   "display_name": "Python 3 (ipykernel)",
   "language": "python",
   "name": "python3"
  },
  "language_info": {
   "codemirror_mode": {
    "name": "ipython",
    "version": 3
   },
   "file_extension": ".py",
   "mimetype": "text/x-python",
   "name": "python",
   "nbconvert_exporter": "python",
   "pygments_lexer": "ipython3",
   "version": "3.8.10"
  }
 },
 "nbformat": 4,
 "nbformat_minor": 5
}
